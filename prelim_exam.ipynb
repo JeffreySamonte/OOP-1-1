{
  "nbformat": 4,
  "nbformat_minor": 0,
  "metadata": {
    "colab": {
      "name": "prelim exam.ipynb",
      "provenance": [],
      "authorship_tag": "ABX9TyOY8lH9FqQ80NvKsUVk4KlS",
      "include_colab_link": true
    },
    "kernelspec": {
      "name": "python3",
      "display_name": "Python 3"
    },
    "language_info": {
      "name": "python"
    }
  },
  "cells": [
    {
      "cell_type": "markdown",
      "metadata": {
        "id": "view-in-github",
        "colab_type": "text"
      },
      "source": [
        "<a href=\"https://colab.research.google.com/github/JeffreySamonte/OOP-1-1/blob/main/prelim_exam.ipynb\" target=\"_parent\"><img src=\"https://colab.research.google.com/assets/colab-badge.svg\" alt=\"Open In Colab\"/></a>"
      ]
    },
    {
      "cell_type": "markdown",
      "source": [
        "##Problem 2"
      ],
      "metadata": {
        "id": "Av1dqAZEG7l-"
      }
    },
    {
      "cell_type": "code",
      "execution_count": 2,
      "metadata": {
        "colab": {
          "base_uri": "https://localhost:8080/"
        },
        "id": "dgU4_rDPGUWJ",
        "outputId": "cd2cf343-d931-4b4e-aaa5-4db4e60b13a4"
      },
      "outputs": [
        {
          "output_type": "stream",
          "name": "stdout",
          "text": [
            "Name: Jeffrey Rañoa Samonte\n",
            "Student No: 202102562\n",
            "Age: 19 years old\n",
            "School: Cavite State University\n",
            "Course: BS Computer Engineering\n"
          ]
        }
      ],
      "source": [
        "class Student:\n",
        "  def __init__(self, Name, Student_No, Age, School, Course):\n",
        "      self.Name = Name\n",
        "      self.Student_No = Student_No\n",
        "      self.Age = Age\n",
        "      self.School = School\n",
        "      self.Course = Course\n",
        "\n",
        "  def Info(self):\n",
        "    print(\"Name:\", self.Name)\n",
        "    print(\"Student No:\", self.Student_No)\n",
        "    print(\"Age:\", self.Age, \"years old\")\n",
        "    print(\"School:\", self.School)\n",
        "    print(\"Course:\", self.Course)\n",
        "\n",
        "myself = Student(\"Jeffrey Rañoa Samonte\", 202102562, 19, \"Cavite State University\", \"BS Computer Engineering\")\n",
        "myself.Info()"
      ]
    }
  ]
}