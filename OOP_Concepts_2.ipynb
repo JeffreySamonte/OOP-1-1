{
  "nbformat": 4,
  "nbformat_minor": 0,
  "metadata": {
    "colab": {
      "name": "OOP_Concepts_2.ipynb",
      "provenance": [],
      "authorship_tag": "ABX9TyNzoHMPuufJzamsPBFyvkXj",
      "include_colab_link": true
    },
    "kernelspec": {
      "name": "python3",
      "display_name": "Python 3"
    },
    "language_info": {
      "name": "python"
    }
  },
  "cells": [
    {
      "cell_type": "markdown",
      "metadata": {
        "id": "view-in-github",
        "colab_type": "text"
      },
      "source": [
        "<a href=\"https://colab.research.google.com/github/JeffreySamonte/OOP-1-1/blob/main/OOP_Concepts_2.ipynb\" target=\"_parent\"><img src=\"https://colab.research.google.com/assets/colab-badge.svg\" alt=\"Open In Colab\"/></a>"
      ]
    },
    {
      "cell_type": "markdown",
      "source": [
        "Classes with Multiple Objects"
      ],
      "metadata": {
        "id": "a6nzKuUXFxwk"
      }
    },
    {
      "cell_type": "code",
      "execution_count": 4,
      "metadata": {
        "colab": {
          "base_uri": "https://localhost:8080/"
        },
        "id": "U0KDP1pLyW2O",
        "outputId": "cf217699-4b25-43a1-d4f3-a4c8ae5efe23"
      },
      "outputs": [
        {
          "output_type": "stream",
          "name": "stdout",
          "text": [
            "Griffor Vultureflies above the sky\n",
            "Common Craneflies above the sky\n",
            "Emu is the national bird of Australia\n"
          ]
        }
      ],
      "source": [
        "class Birds:\n",
        "  def __init__(self,birds_name):\n",
        "    self.birds_name = birds_name\n",
        "  def flying_birds(self):\n",
        "    print(f\"{self.birds_name}flies above the sky\")\n",
        "  def non_flying_birds(self):\n",
        "    print(f\"{self.birds_name} is the national bird of Australia\")\n",
        "\n",
        "vulture = Birds(\"Griffor Vulture\")\n",
        "crane = Birds(\"Common Crane\")\n",
        "emu = Birds(\"Emu\")\n",
        "\n",
        "vulture.flying_birds()\n",
        "crane.flying_birds()\n",
        "emu.non_flying_birds()"
      ]
    },
    {
      "cell_type": "markdown",
      "source": [
        "Encapsulation"
      ],
      "metadata": {
        "id": "F48shZFNF2f8"
      }
    },
    {
      "cell_type": "code",
      "source": [
        "class foo:\n",
        "  def __init__(self,a,b):\n",
        "    self.a = a\n",
        "    self.b = b\n",
        "\n",
        "  def add(self):\n",
        "    return self.a + self.b\n",
        "  \n",
        "object_foo = foo(3,4)\n",
        "object_foo.add()\n",
        "\n",
        "object_foo.a = 6\n",
        "object_foo.add()"
      ],
      "metadata": {
        "colab": {
          "base_uri": "https://localhost:8080/"
        },
        "id": "l3lxLxpiF4Uo",
        "outputId": "70b3af28-72ec-4a99-9b7c-0305789d2c2a"
      },
      "execution_count": 3,
      "outputs": [
        {
          "output_type": "execute_result",
          "data": {
            "text/plain": [
              "10"
            ]
          },
          "metadata": {},
          "execution_count": 3
        }
      ]
    },
    {
      "cell_type": "markdown",
      "source": [
        "Encapsulation (mangling with double underscore)"
      ],
      "metadata": {
        "id": "GJabpfaBF6ew"
      }
    },
    {
      "cell_type": "code",
      "source": [
        "class foo:\n",
        "  def __init__(self,a,b):\n",
        "    self.__a = a\n",
        "    self.__b = b\n",
        "\n",
        "  def add(self):\n",
        "    return self.__a + self.__b\n",
        "  \n",
        "object_foo = foo(3,4)\n",
        "object_foo.add()\n",
        "\n",
        "object_foo.__a = 6\n",
        "object_foo.add()"
      ],
      "metadata": {
        "colab": {
          "base_uri": "https://localhost:8080/"
        },
        "id": "7AQkxyJYF82Z",
        "outputId": "f6a831ae-6d91-41eb-8b70-539818432884"
      },
      "execution_count": 2,
      "outputs": [
        {
          "output_type": "execute_result",
          "data": {
            "text/plain": [
              "7"
            ]
          },
          "metadata": {},
          "execution_count": 2
        }
      ]
    },
    {
      "cell_type": "markdown",
      "source": [
        "Inheritance"
      ],
      "metadata": {
        "id": "hXF_2jZoGM1P"
      }
    },
    {
      "cell_type": "code",
      "source": [
        "class Person:\n",
        "  def __init__(self,firstname,surname):\n",
        "    self.firstname = firstname\n",
        "    self.surname = surname\n",
        "\n",
        "  def fullname(self):\n",
        "    print(self.firstname,self.surname)\n",
        "\n",
        "person =Person(\"Jeffrey\",\"Samonte\")\n",
        "person.fullname()\n",
        "\n",
        "class Student(Person):\n",
        "  pass\n",
        "\n",
        "person2 = Student(\"Jeff\",\"Samonte\")\n",
        "person2.fullname()\n",
        "\n",
        "class Student(Person):\n",
        "  pass\n",
        "\n",
        "person3 = Student(\"Sakura\",\"Badol\")\n",
        "person3.fullname()"
      ],
      "metadata": {
        "colab": {
          "base_uri": "https://localhost:8080/"
        },
        "id": "ykpt8D5zGQto",
        "outputId": "da3c7ea6-1656-4d49-bc81-a6d1e22b6be5"
      },
      "execution_count": 1,
      "outputs": [
        {
          "output_type": "stream",
          "name": "stdout",
          "text": [
            "Jeffrey Samonte\n",
            "Jeff Samonte\n",
            "Sakura Badol\n"
          ]
        }
      ]
    }
  ]
}