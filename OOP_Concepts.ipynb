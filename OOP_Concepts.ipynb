{
  "nbformat": 4,
  "nbformat_minor": 0,
  "metadata": {
    "colab": {
      "name": "OOP_Concepts.ipynb",
      "provenance": [],
      "authorship_tag": "ABX9TyON/BrRna3w5iUp0RugjWwi",
      "include_colab_link": true
    },
    "kernelspec": {
      "name": "python3",
      "display_name": "Python 3"
    },
    "language_info": {
      "name": "python"
    }
  },
  "cells": [
    {
      "cell_type": "markdown",
      "metadata": {
        "id": "view-in-github",
        "colab_type": "text"
      },
      "source": [
        "<a href=\"https://colab.research.google.com/github/JeffreySamonte/OOP-1-1/blob/main/OOP_Concepts.ipynb\" target=\"_parent\"><img src=\"https://colab.research.google.com/assets/colab-badge.svg\" alt=\"Open In Colab\"/></a>"
      ]
    },
    {
      "cell_type": "markdown",
      "source": [
        "Python Classes and Objects\n",
        "\n",
        "Class"
      ],
      "metadata": {
        "id": "eLrRy0QCvb95"
      }
    },
    {
      "cell_type": "code",
      "execution_count": 1,
      "metadata": {
        "id": "9skQzvxOrwpg"
      },
      "outputs": [],
      "source": [
        "class Myclass:\n",
        "  pass           #create a class without variable and methods"
      ]
    },
    {
      "cell_type": "code",
      "source": [
        "class MyClass:\n",
        "  def __init__(self,name,age):\n",
        "    self.name = name                    #create class with attributes\n",
        "    self.age = age\n",
        "  \n",
        "  def display(self):\n",
        "   print(self.name, self.age)\n",
        "\n",
        "person = MyClass(\"Jeffrey R. Samonte\", 19) #create an object\n",
        "\n",
        "person.display()\n"
      ],
      "metadata": {
        "colab": {
          "base_uri": "https://localhost:8080/"
        },
        "id": "ukgL4psYxQ9B",
        "outputId": "8ab997ae-a9d1-4816-95b7-99ee8520a88d"
      },
      "execution_count": 2,
      "outputs": [
        {
          "output_type": "stream",
          "name": "stdout",
          "text": [
            "Jeffrey R. Samonte 19\n"
          ]
        }
      ]
    },
    {
      "cell_type": "code",
      "source": [
        "#Application 1 - Write a Python program that computes for an area of rectangle: Area = lxw\n",
        "\n",
        "class Rectangle:\n",
        "   def __init__(self,l,w):\n",
        "     self.l = l\n",
        "     self.w = w\n",
        "\n",
        "     def Area(self):\n",
        "       print(self.l * self.w)\n",
        "\n",
        "       rect = Rectangle(7,3)\n",
        "       rect.Area()"
      ],
      "metadata": {
        "id": "fu0jFX_qxWg1"
      },
      "execution_count": 3,
      "outputs": []
    }
  ]
}